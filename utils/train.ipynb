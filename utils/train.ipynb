{
 "cells": [
  {
   "cell_type": "code",
   "execution_count": 1,
   "metadata": {},
   "outputs": [
    {
     "name": "stdout",
     "output_type": "stream",
     "text": [
      "/workspace/LLaSA\n"
     ]
    }
   ],
   "source": [
    "import os\n",
    "\n",
    "os.chdir('..')\n",
    "print(os.getcwd())"
   ]
  },
  {
   "cell_type": "code",
   "execution_count": 2,
   "metadata": {},
   "outputs": [
    {
     "name": "stderr",
     "output_type": "stream",
     "text": [
      "/opt/conda/envs/llasa/lib/python3.11/site-packages/tqdm/auto.py:21: TqdmWarning: IProgress not found. Please update jupyter and ipywidgets. See https://ipywidgets.readthedocs.io/en/stable/user_install.html\n",
      "  from .autonotebook import tqdm as notebook_tqdm\n"
     ]
    },
    {
     "data": {
      "text/plain": [
       "<module 'model.llasa_arch' from '/workspace/LLaSA/model/llasa_arch.py'>"
      ]
     },
     "execution_count": 2,
     "metadata": {},
     "output_type": "execute_result"
    }
   ],
   "source": [
    "import importlib\n",
    "\n",
    "importlib.reload(importlib.import_module(\"model.llasa_arch\"))\n",
    "#importlib.reload(importlib.import_module(\"model.llasa_processor\"))\n",
    "#importlib.reload(importlib.import_module(\"utils.dataloader\"))"
   ]
  },
  {
   "cell_type": "code",
   "execution_count": 2,
   "metadata": {},
   "outputs": [
    {
     "name": "stderr",
     "output_type": "stream",
     "text": [
      "/opt/conda/envs/llasa/lib/python3.11/site-packages/tqdm/auto.py:21: TqdmWarning: IProgress not found. Please update jupyter and ipywidgets. See https://ipywidgets.readthedocs.io/en/stable/user_install.html\n",
      "  from .autonotebook import tqdm as notebook_tqdm\n",
      "Unrecognized keys in `rope_scaling` for 'rope_type'='linear': {'type'}\n",
      "Loading checkpoint shards: 100%|██████████| 3/3 [00:06<00:00,  2.32s/it]\n",
      "Some weights of LLaSA were not initialized from the model checkpoint at /workspace/LLaSA/checkpoints/LLaVA-NeXT-Video-7B-hf and are newly initialized: ['seg_projector.linear.bias', 'seg_projector.linear.weight']\n",
      "You should probably TRAIN this model on a down-stream task to be able to use it for predictions and inference.\n"
     ]
    }
   ],
   "source": [
    "# reload module \n",
    "\n",
    "import torch\n",
    "from transformers import BitsAndBytesConfig, LlavaNextVideoForConditionalGeneration\n",
    "from model.llasa_arch import LLaSA\n",
    "from model.llasa_processor import LlavaNextVideoProcessor\n",
    "\n",
    "\n",
    "quantization_config = BitsAndBytesConfig(\n",
    "    load_in_4bit=True,\n",
    "    bnb_4bit_compute_dtype=torch.float16\n",
    ")\n",
    "\n",
    "#del model\n",
    "\n",
    "processor = LlavaNextVideoProcessor.from_pretrained(\"/workspace/LLaSA/checkpoints/LLaVA-NeXT-Video-7B-hf\", cache_dir='/workspace/LLaSA/checkpoints')\n",
    "model = LLaSA.from_pretrained(\n",
    "    \"/workspace/LLaSA/checkpoints/LLaVA-NeXT-Video-7B-hf\",\n",
    "    quantization_config=quantization_config,\n",
    "    device_map='auto',\n",
    "    cache_dir = '/workspace/LLaSA/checkpoints'\n",
    ")\n"
   ]
  },
  {
   "cell_type": "code",
   "execution_count": 3,
   "metadata": {},
   "outputs": [],
   "source": [
    "from pynvml import *\n",
    "\n",
    "\n",
    "def print_gpu_utilization():\n",
    "    nvmlInit()\n",
    "    handle = nvmlDeviceGetHandleByIndex(0)\n",
    "    info = nvmlDeviceGetMemoryInfo(handle)\n",
    "    print(f\"GPU memory occupied: {info.used//1024**2} MB.\")\n",
    "\n",
    "\n",
    "def print_summary(result):\n",
    "    print(f\"Time: {result.metrics['train_runtime']:.2f}\")\n",
    "    print(f\"Samples/second: {result.metrics['train_samples_per_second']:.2f}\")\n",
    "    print_gpu_utilization()"
   ]
  },
  {
   "cell_type": "code",
   "execution_count": 4,
   "metadata": {},
   "outputs": [],
   "source": [
    "from utils.dataloader import Dataset_A2D\n",
    "train_dataset = Dataset_A2D(processor=processor,start_idx=0, end_idx=3500)\n",
    "eval_dataset = Dataset_A2D(processor=processor,start_idx=3500, end_idx=3600)"
   ]
  },
  {
   "cell_type": "code",
   "execution_count": 5,
   "metadata": {},
   "outputs": [],
   "source": [
    "from peft import LoraConfig\n",
    "\n",
    "\n",
    "lora_config = LoraConfig(\n",
    "    target_modules=[\"q_proj\", \"k_proj\"],\n",
    "    init_lora_weights=False\n",
    ")\n",
    "\n",
    "peft_config = LoraConfig(\n",
    "    lora_alpha=16,\n",
    "    lora_dropout=0.1,\n",
    "    r=64,\n",
    "    bias=\"none\",\n",
    "    task_type=\"CAUSAL_LM\",\n",
    ")\n",
    "\n",
    "model.add_adapter(lora_config, adapter_name=\"Llasa_adapter\")\n",
    "model.set_adapter('Llasa_adapter')"
   ]
  },
  {
   "cell_type": "code",
   "execution_count": 6,
   "metadata": {},
   "outputs": [
    {
     "name": "stdout",
     "output_type": "stream",
     "text": [
      "Layer: vision_tower.vision_model.encoder.layers.0.self_attn.k_proj.lora_A.Llasa_adapter.weight | Trainable\n",
      "Layer: vision_tower.vision_model.encoder.layers.0.self_attn.k_proj.lora_B.Llasa_adapter.weight | Trainable\n",
      "Layer: vision_tower.vision_model.encoder.layers.0.self_attn.q_proj.lora_A.Llasa_adapter.weight | Trainable\n",
      "Layer: vision_tower.vision_model.encoder.layers.0.self_attn.q_proj.lora_B.Llasa_adapter.weight | Trainable\n",
      "Layer: vision_tower.vision_model.encoder.layers.1.self_attn.k_proj.lora_A.Llasa_adapter.weight | Trainable\n",
      "Layer: vision_tower.vision_model.encoder.layers.1.self_attn.k_proj.lora_B.Llasa_adapter.weight | Trainable\n",
      "Layer: vision_tower.vision_model.encoder.layers.1.self_attn.q_proj.lora_A.Llasa_adapter.weight | Trainable\n",
      "Layer: vision_tower.vision_model.encoder.layers.1.self_attn.q_proj.lora_B.Llasa_adapter.weight | Trainable\n",
      "Layer: vision_tower.vision_model.encoder.layers.2.self_attn.k_proj.lora_A.Llasa_adapter.weight | Trainable\n",
      "Layer: vision_tower.vision_model.encoder.layers.2.self_attn.k_proj.lora_B.Llasa_adapter.weight | Trainable\n",
      "Layer: vision_tower.vision_model.encoder.layers.2.self_attn.q_proj.lora_A.Llasa_adapter.weight | Trainable\n",
      "Layer: vision_tower.vision_model.encoder.layers.2.self_attn.q_proj.lora_B.Llasa_adapter.weight | Trainable\n",
      "Layer: vision_tower.vision_model.encoder.layers.3.self_attn.k_proj.lora_A.Llasa_adapter.weight | Trainable\n",
      "Layer: vision_tower.vision_model.encoder.layers.3.self_attn.k_proj.lora_B.Llasa_adapter.weight | Trainable\n",
      "Layer: vision_tower.vision_model.encoder.layers.3.self_attn.q_proj.lora_A.Llasa_adapter.weight | Trainable\n",
      "Layer: vision_tower.vision_model.encoder.layers.3.self_attn.q_proj.lora_B.Llasa_adapter.weight | Trainable\n",
      "Layer: vision_tower.vision_model.encoder.layers.4.self_attn.k_proj.lora_A.Llasa_adapter.weight | Trainable\n",
      "Layer: vision_tower.vision_model.encoder.layers.4.self_attn.k_proj.lora_B.Llasa_adapter.weight | Trainable\n",
      "Layer: vision_tower.vision_model.encoder.layers.4.self_attn.q_proj.lora_A.Llasa_adapter.weight | Trainable\n",
      "Layer: vision_tower.vision_model.encoder.layers.4.self_attn.q_proj.lora_B.Llasa_adapter.weight | Trainable\n",
      "Layer: vision_tower.vision_model.encoder.layers.5.self_attn.k_proj.lora_A.Llasa_adapter.weight | Trainable\n",
      "Layer: vision_tower.vision_model.encoder.layers.5.self_attn.k_proj.lora_B.Llasa_adapter.weight | Trainable\n",
      "Layer: vision_tower.vision_model.encoder.layers.5.self_attn.q_proj.lora_A.Llasa_adapter.weight | Trainable\n",
      "Layer: vision_tower.vision_model.encoder.layers.5.self_attn.q_proj.lora_B.Llasa_adapter.weight | Trainable\n",
      "Layer: vision_tower.vision_model.encoder.layers.6.self_attn.k_proj.lora_A.Llasa_adapter.weight | Trainable\n",
      "Layer: vision_tower.vision_model.encoder.layers.6.self_attn.k_proj.lora_B.Llasa_adapter.weight | Trainable\n",
      "Layer: vision_tower.vision_model.encoder.layers.6.self_attn.q_proj.lora_A.Llasa_adapter.weight | Trainable\n",
      "Layer: vision_tower.vision_model.encoder.layers.6.self_attn.q_proj.lora_B.Llasa_adapter.weight | Trainable\n",
      "Layer: vision_tower.vision_model.encoder.layers.7.self_attn.k_proj.lora_A.Llasa_adapter.weight | Trainable\n",
      "Layer: vision_tower.vision_model.encoder.layers.7.self_attn.k_proj.lora_B.Llasa_adapter.weight | Trainable\n",
      "Layer: vision_tower.vision_model.encoder.layers.7.self_attn.q_proj.lora_A.Llasa_adapter.weight | Trainable\n",
      "Layer: vision_tower.vision_model.encoder.layers.7.self_attn.q_proj.lora_B.Llasa_adapter.weight | Trainable\n",
      "Layer: vision_tower.vision_model.encoder.layers.8.self_attn.k_proj.lora_A.Llasa_adapter.weight | Trainable\n",
      "Layer: vision_tower.vision_model.encoder.layers.8.self_attn.k_proj.lora_B.Llasa_adapter.weight | Trainable\n",
      "Layer: vision_tower.vision_model.encoder.layers.8.self_attn.q_proj.lora_A.Llasa_adapter.weight | Trainable\n",
      "Layer: vision_tower.vision_model.encoder.layers.8.self_attn.q_proj.lora_B.Llasa_adapter.weight | Trainable\n",
      "Layer: vision_tower.vision_model.encoder.layers.9.self_attn.k_proj.lora_A.Llasa_adapter.weight | Trainable\n",
      "Layer: vision_tower.vision_model.encoder.layers.9.self_attn.k_proj.lora_B.Llasa_adapter.weight | Trainable\n",
      "Layer: vision_tower.vision_model.encoder.layers.9.self_attn.q_proj.lora_A.Llasa_adapter.weight | Trainable\n",
      "Layer: vision_tower.vision_model.encoder.layers.9.self_attn.q_proj.lora_B.Llasa_adapter.weight | Trainable\n",
      "Layer: vision_tower.vision_model.encoder.layers.10.self_attn.k_proj.lora_A.Llasa_adapter.weight | Trainable\n",
      "Layer: vision_tower.vision_model.encoder.layers.10.self_attn.k_proj.lora_B.Llasa_adapter.weight | Trainable\n",
      "Layer: vision_tower.vision_model.encoder.layers.10.self_attn.q_proj.lora_A.Llasa_adapter.weight | Trainable\n",
      "Layer: vision_tower.vision_model.encoder.layers.10.self_attn.q_proj.lora_B.Llasa_adapter.weight | Trainable\n",
      "Layer: vision_tower.vision_model.encoder.layers.11.self_attn.k_proj.lora_A.Llasa_adapter.weight | Trainable\n",
      "Layer: vision_tower.vision_model.encoder.layers.11.self_attn.k_proj.lora_B.Llasa_adapter.weight | Trainable\n",
      "Layer: vision_tower.vision_model.encoder.layers.11.self_attn.q_proj.lora_A.Llasa_adapter.weight | Trainable\n",
      "Layer: vision_tower.vision_model.encoder.layers.11.self_attn.q_proj.lora_B.Llasa_adapter.weight | Trainable\n",
      "Layer: vision_tower.vision_model.encoder.layers.12.self_attn.k_proj.lora_A.Llasa_adapter.weight | Trainable\n",
      "Layer: vision_tower.vision_model.encoder.layers.12.self_attn.k_proj.lora_B.Llasa_adapter.weight | Trainable\n",
      "Layer: vision_tower.vision_model.encoder.layers.12.self_attn.q_proj.lora_A.Llasa_adapter.weight | Trainable\n",
      "Layer: vision_tower.vision_model.encoder.layers.12.self_attn.q_proj.lora_B.Llasa_adapter.weight | Trainable\n",
      "Layer: vision_tower.vision_model.encoder.layers.13.self_attn.k_proj.lora_A.Llasa_adapter.weight | Trainable\n",
      "Layer: vision_tower.vision_model.encoder.layers.13.self_attn.k_proj.lora_B.Llasa_adapter.weight | Trainable\n",
      "Layer: vision_tower.vision_model.encoder.layers.13.self_attn.q_proj.lora_A.Llasa_adapter.weight | Trainable\n",
      "Layer: vision_tower.vision_model.encoder.layers.13.self_attn.q_proj.lora_B.Llasa_adapter.weight | Trainable\n",
      "Layer: vision_tower.vision_model.encoder.layers.14.self_attn.k_proj.lora_A.Llasa_adapter.weight | Trainable\n",
      "Layer: vision_tower.vision_model.encoder.layers.14.self_attn.k_proj.lora_B.Llasa_adapter.weight | Trainable\n",
      "Layer: vision_tower.vision_model.encoder.layers.14.self_attn.q_proj.lora_A.Llasa_adapter.weight | Trainable\n",
      "Layer: vision_tower.vision_model.encoder.layers.14.self_attn.q_proj.lora_B.Llasa_adapter.weight | Trainable\n",
      "Layer: vision_tower.vision_model.encoder.layers.15.self_attn.k_proj.lora_A.Llasa_adapter.weight | Trainable\n",
      "Layer: vision_tower.vision_model.encoder.layers.15.self_attn.k_proj.lora_B.Llasa_adapter.weight | Trainable\n",
      "Layer: vision_tower.vision_model.encoder.layers.15.self_attn.q_proj.lora_A.Llasa_adapter.weight | Trainable\n",
      "Layer: vision_tower.vision_model.encoder.layers.15.self_attn.q_proj.lora_B.Llasa_adapter.weight | Trainable\n",
      "Layer: vision_tower.vision_model.encoder.layers.16.self_attn.k_proj.lora_A.Llasa_adapter.weight | Trainable\n",
      "Layer: vision_tower.vision_model.encoder.layers.16.self_attn.k_proj.lora_B.Llasa_adapter.weight | Trainable\n",
      "Layer: vision_tower.vision_model.encoder.layers.16.self_attn.q_proj.lora_A.Llasa_adapter.weight | Trainable\n",
      "Layer: vision_tower.vision_model.encoder.layers.16.self_attn.q_proj.lora_B.Llasa_adapter.weight | Trainable\n",
      "Layer: vision_tower.vision_model.encoder.layers.17.self_attn.k_proj.lora_A.Llasa_adapter.weight | Trainable\n",
      "Layer: vision_tower.vision_model.encoder.layers.17.self_attn.k_proj.lora_B.Llasa_adapter.weight | Trainable\n",
      "Layer: vision_tower.vision_model.encoder.layers.17.self_attn.q_proj.lora_A.Llasa_adapter.weight | Trainable\n",
      "Layer: vision_tower.vision_model.encoder.layers.17.self_attn.q_proj.lora_B.Llasa_adapter.weight | Trainable\n",
      "Layer: vision_tower.vision_model.encoder.layers.18.self_attn.k_proj.lora_A.Llasa_adapter.weight | Trainable\n",
      "Layer: vision_tower.vision_model.encoder.layers.18.self_attn.k_proj.lora_B.Llasa_adapter.weight | Trainable\n",
      "Layer: vision_tower.vision_model.encoder.layers.18.self_attn.q_proj.lora_A.Llasa_adapter.weight | Trainable\n",
      "Layer: vision_tower.vision_model.encoder.layers.18.self_attn.q_proj.lora_B.Llasa_adapter.weight | Trainable\n",
      "Layer: vision_tower.vision_model.encoder.layers.19.self_attn.k_proj.lora_A.Llasa_adapter.weight | Trainable\n",
      "Layer: vision_tower.vision_model.encoder.layers.19.self_attn.k_proj.lora_B.Llasa_adapter.weight | Trainable\n",
      "Layer: vision_tower.vision_model.encoder.layers.19.self_attn.q_proj.lora_A.Llasa_adapter.weight | Trainable\n",
      "Layer: vision_tower.vision_model.encoder.layers.19.self_attn.q_proj.lora_B.Llasa_adapter.weight | Trainable\n",
      "Layer: vision_tower.vision_model.encoder.layers.20.self_attn.k_proj.lora_A.Llasa_adapter.weight | Trainable\n",
      "Layer: vision_tower.vision_model.encoder.layers.20.self_attn.k_proj.lora_B.Llasa_adapter.weight | Trainable\n",
      "Layer: vision_tower.vision_model.encoder.layers.20.self_attn.q_proj.lora_A.Llasa_adapter.weight | Trainable\n",
      "Layer: vision_tower.vision_model.encoder.layers.20.self_attn.q_proj.lora_B.Llasa_adapter.weight | Trainable\n",
      "Layer: vision_tower.vision_model.encoder.layers.21.self_attn.k_proj.lora_A.Llasa_adapter.weight | Trainable\n",
      "Layer: vision_tower.vision_model.encoder.layers.21.self_attn.k_proj.lora_B.Llasa_adapter.weight | Trainable\n",
      "Layer: vision_tower.vision_model.encoder.layers.21.self_attn.q_proj.lora_A.Llasa_adapter.weight | Trainable\n",
      "Layer: vision_tower.vision_model.encoder.layers.21.self_attn.q_proj.lora_B.Llasa_adapter.weight | Trainable\n",
      "Layer: vision_tower.vision_model.encoder.layers.22.self_attn.k_proj.lora_A.Llasa_adapter.weight | Trainable\n",
      "Layer: vision_tower.vision_model.encoder.layers.22.self_attn.k_proj.lora_B.Llasa_adapter.weight | Trainable\n",
      "Layer: vision_tower.vision_model.encoder.layers.22.self_attn.q_proj.lora_A.Llasa_adapter.weight | Trainable\n",
      "Layer: vision_tower.vision_model.encoder.layers.22.self_attn.q_proj.lora_B.Llasa_adapter.weight | Trainable\n",
      "Layer: vision_tower.vision_model.encoder.layers.23.self_attn.k_proj.lora_A.Llasa_adapter.weight | Trainable\n",
      "Layer: vision_tower.vision_model.encoder.layers.23.self_attn.k_proj.lora_B.Llasa_adapter.weight | Trainable\n",
      "Layer: vision_tower.vision_model.encoder.layers.23.self_attn.q_proj.lora_A.Llasa_adapter.weight | Trainable\n",
      "Layer: vision_tower.vision_model.encoder.layers.23.self_attn.q_proj.lora_B.Llasa_adapter.weight | Trainable\n",
      "Layer: language_model.model.layers.0.self_attn.q_proj.lora_A.Llasa_adapter.weight | Trainable\n",
      "Layer: language_model.model.layers.0.self_attn.q_proj.lora_B.Llasa_adapter.weight | Trainable\n",
      "Layer: language_model.model.layers.0.self_attn.k_proj.lora_A.Llasa_adapter.weight | Trainable\n",
      "Layer: language_model.model.layers.0.self_attn.k_proj.lora_B.Llasa_adapter.weight | Trainable\n",
      "Layer: language_model.model.layers.1.self_attn.q_proj.lora_A.Llasa_adapter.weight | Trainable\n",
      "Layer: language_model.model.layers.1.self_attn.q_proj.lora_B.Llasa_adapter.weight | Trainable\n",
      "Layer: language_model.model.layers.1.self_attn.k_proj.lora_A.Llasa_adapter.weight | Trainable\n",
      "Layer: language_model.model.layers.1.self_attn.k_proj.lora_B.Llasa_adapter.weight | Trainable\n",
      "Layer: language_model.model.layers.2.self_attn.q_proj.lora_A.Llasa_adapter.weight | Trainable\n",
      "Layer: language_model.model.layers.2.self_attn.q_proj.lora_B.Llasa_adapter.weight | Trainable\n",
      "Layer: language_model.model.layers.2.self_attn.k_proj.lora_A.Llasa_adapter.weight | Trainable\n",
      "Layer: language_model.model.layers.2.self_attn.k_proj.lora_B.Llasa_adapter.weight | Trainable\n",
      "Layer: language_model.model.layers.3.self_attn.q_proj.lora_A.Llasa_adapter.weight | Trainable\n",
      "Layer: language_model.model.layers.3.self_attn.q_proj.lora_B.Llasa_adapter.weight | Trainable\n",
      "Layer: language_model.model.layers.3.self_attn.k_proj.lora_A.Llasa_adapter.weight | Trainable\n",
      "Layer: language_model.model.layers.3.self_attn.k_proj.lora_B.Llasa_adapter.weight | Trainable\n",
      "Layer: language_model.model.layers.4.self_attn.q_proj.lora_A.Llasa_adapter.weight | Trainable\n",
      "Layer: language_model.model.layers.4.self_attn.q_proj.lora_B.Llasa_adapter.weight | Trainable\n",
      "Layer: language_model.model.layers.4.self_attn.k_proj.lora_A.Llasa_adapter.weight | Trainable\n",
      "Layer: language_model.model.layers.4.self_attn.k_proj.lora_B.Llasa_adapter.weight | Trainable\n",
      "Layer: language_model.model.layers.5.self_attn.q_proj.lora_A.Llasa_adapter.weight | Trainable\n",
      "Layer: language_model.model.layers.5.self_attn.q_proj.lora_B.Llasa_adapter.weight | Trainable\n",
      "Layer: language_model.model.layers.5.self_attn.k_proj.lora_A.Llasa_adapter.weight | Trainable\n",
      "Layer: language_model.model.layers.5.self_attn.k_proj.lora_B.Llasa_adapter.weight | Trainable\n",
      "Layer: language_model.model.layers.6.self_attn.q_proj.lora_A.Llasa_adapter.weight | Trainable\n",
      "Layer: language_model.model.layers.6.self_attn.q_proj.lora_B.Llasa_adapter.weight | Trainable\n",
      "Layer: language_model.model.layers.6.self_attn.k_proj.lora_A.Llasa_adapter.weight | Trainable\n",
      "Layer: language_model.model.layers.6.self_attn.k_proj.lora_B.Llasa_adapter.weight | Trainable\n",
      "Layer: language_model.model.layers.7.self_attn.q_proj.lora_A.Llasa_adapter.weight | Trainable\n",
      "Layer: language_model.model.layers.7.self_attn.q_proj.lora_B.Llasa_adapter.weight | Trainable\n",
      "Layer: language_model.model.layers.7.self_attn.k_proj.lora_A.Llasa_adapter.weight | Trainable\n",
      "Layer: language_model.model.layers.7.self_attn.k_proj.lora_B.Llasa_adapter.weight | Trainable\n",
      "Layer: language_model.model.layers.8.self_attn.q_proj.lora_A.Llasa_adapter.weight | Trainable\n",
      "Layer: language_model.model.layers.8.self_attn.q_proj.lora_B.Llasa_adapter.weight | Trainable\n",
      "Layer: language_model.model.layers.8.self_attn.k_proj.lora_A.Llasa_adapter.weight | Trainable\n",
      "Layer: language_model.model.layers.8.self_attn.k_proj.lora_B.Llasa_adapter.weight | Trainable\n",
      "Layer: language_model.model.layers.9.self_attn.q_proj.lora_A.Llasa_adapter.weight | Trainable\n",
      "Layer: language_model.model.layers.9.self_attn.q_proj.lora_B.Llasa_adapter.weight | Trainable\n",
      "Layer: language_model.model.layers.9.self_attn.k_proj.lora_A.Llasa_adapter.weight | Trainable\n",
      "Layer: language_model.model.layers.9.self_attn.k_proj.lora_B.Llasa_adapter.weight | Trainable\n",
      "Layer: language_model.model.layers.10.self_attn.q_proj.lora_A.Llasa_adapter.weight | Trainable\n",
      "Layer: language_model.model.layers.10.self_attn.q_proj.lora_B.Llasa_adapter.weight | Trainable\n",
      "Layer: language_model.model.layers.10.self_attn.k_proj.lora_A.Llasa_adapter.weight | Trainable\n",
      "Layer: language_model.model.layers.10.self_attn.k_proj.lora_B.Llasa_adapter.weight | Trainable\n",
      "Layer: language_model.model.layers.11.self_attn.q_proj.lora_A.Llasa_adapter.weight | Trainable\n",
      "Layer: language_model.model.layers.11.self_attn.q_proj.lora_B.Llasa_adapter.weight | Trainable\n",
      "Layer: language_model.model.layers.11.self_attn.k_proj.lora_A.Llasa_adapter.weight | Trainable\n",
      "Layer: language_model.model.layers.11.self_attn.k_proj.lora_B.Llasa_adapter.weight | Trainable\n",
      "Layer: language_model.model.layers.12.self_attn.q_proj.lora_A.Llasa_adapter.weight | Trainable\n",
      "Layer: language_model.model.layers.12.self_attn.q_proj.lora_B.Llasa_adapter.weight | Trainable\n",
      "Layer: language_model.model.layers.12.self_attn.k_proj.lora_A.Llasa_adapter.weight | Trainable\n",
      "Layer: language_model.model.layers.12.self_attn.k_proj.lora_B.Llasa_adapter.weight | Trainable\n",
      "Layer: language_model.model.layers.13.self_attn.q_proj.lora_A.Llasa_adapter.weight | Trainable\n",
      "Layer: language_model.model.layers.13.self_attn.q_proj.lora_B.Llasa_adapter.weight | Trainable\n",
      "Layer: language_model.model.layers.13.self_attn.k_proj.lora_A.Llasa_adapter.weight | Trainable\n",
      "Layer: language_model.model.layers.13.self_attn.k_proj.lora_B.Llasa_adapter.weight | Trainable\n",
      "Layer: language_model.model.layers.14.self_attn.q_proj.lora_A.Llasa_adapter.weight | Trainable\n",
      "Layer: language_model.model.layers.14.self_attn.q_proj.lora_B.Llasa_adapter.weight | Trainable\n",
      "Layer: language_model.model.layers.14.self_attn.k_proj.lora_A.Llasa_adapter.weight | Trainable\n",
      "Layer: language_model.model.layers.14.self_attn.k_proj.lora_B.Llasa_adapter.weight | Trainable\n",
      "Layer: language_model.model.layers.15.self_attn.q_proj.lora_A.Llasa_adapter.weight | Trainable\n",
      "Layer: language_model.model.layers.15.self_attn.q_proj.lora_B.Llasa_adapter.weight | Trainable\n",
      "Layer: language_model.model.layers.15.self_attn.k_proj.lora_A.Llasa_adapter.weight | Trainable\n",
      "Layer: language_model.model.layers.15.self_attn.k_proj.lora_B.Llasa_adapter.weight | Trainable\n",
      "Layer: language_model.model.layers.16.self_attn.q_proj.lora_A.Llasa_adapter.weight | Trainable\n",
      "Layer: language_model.model.layers.16.self_attn.q_proj.lora_B.Llasa_adapter.weight | Trainable\n",
      "Layer: language_model.model.layers.16.self_attn.k_proj.lora_A.Llasa_adapter.weight | Trainable\n",
      "Layer: language_model.model.layers.16.self_attn.k_proj.lora_B.Llasa_adapter.weight | Trainable\n",
      "Layer: language_model.model.layers.17.self_attn.q_proj.lora_A.Llasa_adapter.weight | Trainable\n",
      "Layer: language_model.model.layers.17.self_attn.q_proj.lora_B.Llasa_adapter.weight | Trainable\n",
      "Layer: language_model.model.layers.17.self_attn.k_proj.lora_A.Llasa_adapter.weight | Trainable\n",
      "Layer: language_model.model.layers.17.self_attn.k_proj.lora_B.Llasa_adapter.weight | Trainable\n",
      "Layer: language_model.model.layers.18.self_attn.q_proj.lora_A.Llasa_adapter.weight | Trainable\n",
      "Layer: language_model.model.layers.18.self_attn.q_proj.lora_B.Llasa_adapter.weight | Trainable\n",
      "Layer: language_model.model.layers.18.self_attn.k_proj.lora_A.Llasa_adapter.weight | Trainable\n",
      "Layer: language_model.model.layers.18.self_attn.k_proj.lora_B.Llasa_adapter.weight | Trainable\n",
      "Layer: language_model.model.layers.19.self_attn.q_proj.lora_A.Llasa_adapter.weight | Trainable\n",
      "Layer: language_model.model.layers.19.self_attn.q_proj.lora_B.Llasa_adapter.weight | Trainable\n",
      "Layer: language_model.model.layers.19.self_attn.k_proj.lora_A.Llasa_adapter.weight | Trainable\n",
      "Layer: language_model.model.layers.19.self_attn.k_proj.lora_B.Llasa_adapter.weight | Trainable\n",
      "Layer: language_model.model.layers.20.self_attn.q_proj.lora_A.Llasa_adapter.weight | Trainable\n",
      "Layer: language_model.model.layers.20.self_attn.q_proj.lora_B.Llasa_adapter.weight | Trainable\n",
      "Layer: language_model.model.layers.20.self_attn.k_proj.lora_A.Llasa_adapter.weight | Trainable\n",
      "Layer: language_model.model.layers.20.self_attn.k_proj.lora_B.Llasa_adapter.weight | Trainable\n",
      "Layer: language_model.model.layers.21.self_attn.q_proj.lora_A.Llasa_adapter.weight | Trainable\n",
      "Layer: language_model.model.layers.21.self_attn.q_proj.lora_B.Llasa_adapter.weight | Trainable\n",
      "Layer: language_model.model.layers.21.self_attn.k_proj.lora_A.Llasa_adapter.weight | Trainable\n",
      "Layer: language_model.model.layers.21.self_attn.k_proj.lora_B.Llasa_adapter.weight | Trainable\n",
      "Layer: language_model.model.layers.22.self_attn.q_proj.lora_A.Llasa_adapter.weight | Trainable\n",
      "Layer: language_model.model.layers.22.self_attn.q_proj.lora_B.Llasa_adapter.weight | Trainable\n",
      "Layer: language_model.model.layers.22.self_attn.k_proj.lora_A.Llasa_adapter.weight | Trainable\n",
      "Layer: language_model.model.layers.22.self_attn.k_proj.lora_B.Llasa_adapter.weight | Trainable\n",
      "Layer: language_model.model.layers.23.self_attn.q_proj.lora_A.Llasa_adapter.weight | Trainable\n",
      "Layer: language_model.model.layers.23.self_attn.q_proj.lora_B.Llasa_adapter.weight | Trainable\n",
      "Layer: language_model.model.layers.23.self_attn.k_proj.lora_A.Llasa_adapter.weight | Trainable\n",
      "Layer: language_model.model.layers.23.self_attn.k_proj.lora_B.Llasa_adapter.weight | Trainable\n",
      "Layer: language_model.model.layers.24.self_attn.q_proj.lora_A.Llasa_adapter.weight | Trainable\n",
      "Layer: language_model.model.layers.24.self_attn.q_proj.lora_B.Llasa_adapter.weight | Trainable\n",
      "Layer: language_model.model.layers.24.self_attn.k_proj.lora_A.Llasa_adapter.weight | Trainable\n",
      "Layer: language_model.model.layers.24.self_attn.k_proj.lora_B.Llasa_adapter.weight | Trainable\n",
      "Layer: language_model.model.layers.25.self_attn.q_proj.lora_A.Llasa_adapter.weight | Trainable\n",
      "Layer: language_model.model.layers.25.self_attn.q_proj.lora_B.Llasa_adapter.weight | Trainable\n",
      "Layer: language_model.model.layers.25.self_attn.k_proj.lora_A.Llasa_adapter.weight | Trainable\n",
      "Layer: language_model.model.layers.25.self_attn.k_proj.lora_B.Llasa_adapter.weight | Trainable\n",
      "Layer: language_model.model.layers.26.self_attn.q_proj.lora_A.Llasa_adapter.weight | Trainable\n",
      "Layer: language_model.model.layers.26.self_attn.q_proj.lora_B.Llasa_adapter.weight | Trainable\n",
      "Layer: language_model.model.layers.26.self_attn.k_proj.lora_A.Llasa_adapter.weight | Trainable\n",
      "Layer: language_model.model.layers.26.self_attn.k_proj.lora_B.Llasa_adapter.weight | Trainable\n",
      "Layer: language_model.model.layers.27.self_attn.q_proj.lora_A.Llasa_adapter.weight | Trainable\n",
      "Layer: language_model.model.layers.27.self_attn.q_proj.lora_B.Llasa_adapter.weight | Trainable\n",
      "Layer: language_model.model.layers.27.self_attn.k_proj.lora_A.Llasa_adapter.weight | Trainable\n",
      "Layer: language_model.model.layers.27.self_attn.k_proj.lora_B.Llasa_adapter.weight | Trainable\n",
      "Layer: language_model.model.layers.28.self_attn.q_proj.lora_A.Llasa_adapter.weight | Trainable\n",
      "Layer: language_model.model.layers.28.self_attn.q_proj.lora_B.Llasa_adapter.weight | Trainable\n",
      "Layer: language_model.model.layers.28.self_attn.k_proj.lora_A.Llasa_adapter.weight | Trainable\n",
      "Layer: language_model.model.layers.28.self_attn.k_proj.lora_B.Llasa_adapter.weight | Trainable\n",
      "Layer: language_model.model.layers.29.self_attn.q_proj.lora_A.Llasa_adapter.weight | Trainable\n",
      "Layer: language_model.model.layers.29.self_attn.q_proj.lora_B.Llasa_adapter.weight | Trainable\n",
      "Layer: language_model.model.layers.29.self_attn.k_proj.lora_A.Llasa_adapter.weight | Trainable\n",
      "Layer: language_model.model.layers.29.self_attn.k_proj.lora_B.Llasa_adapter.weight | Trainable\n",
      "Layer: language_model.model.layers.30.self_attn.q_proj.lora_A.Llasa_adapter.weight | Trainable\n",
      "Layer: language_model.model.layers.30.self_attn.q_proj.lora_B.Llasa_adapter.weight | Trainable\n",
      "Layer: language_model.model.layers.30.self_attn.k_proj.lora_A.Llasa_adapter.weight | Trainable\n",
      "Layer: language_model.model.layers.30.self_attn.k_proj.lora_B.Llasa_adapter.weight | Trainable\n",
      "Layer: language_model.model.layers.31.self_attn.q_proj.lora_A.Llasa_adapter.weight | Trainable\n",
      "Layer: language_model.model.layers.31.self_attn.q_proj.lora_B.Llasa_adapter.weight | Trainable\n",
      "Layer: language_model.model.layers.31.self_attn.k_proj.lora_A.Llasa_adapter.weight | Trainable\n",
      "Layer: language_model.model.layers.31.self_attn.k_proj.lora_B.Llasa_adapter.weight | Trainable\n",
      "Layer: seg_projector.linear.weight | Trainable\n",
      "Layer: seg_projector.linear.bias | Trainable\n"
     ]
    }
   ],
   "source": [
    "\n",
    "for name, param in model.named_parameters():\n",
    "    if \"seg_projector\" in name:\n",
    "        if not torch.is_floating_point(param):\n",
    "            param.data = param.data.float()  # Convert to float32 if not already\n",
    "            # Alternatively, you can use double() or half() for float64 or float16\n",
    "        param.requires_grad = True\n",
    "    else:\n",
    "        continue\n",
    "\n",
    "for name, param in model.named_parameters():\n",
    "    if param.requires_grad:\n",
    "        print(f\"Layer: {name} | Trainable\")\n"
   ]
  },
  {
   "cell_type": "code",
   "execution_count": 12,
   "metadata": {},
   "outputs": [
    {
     "name": "stderr",
     "output_type": "stream",
     "text": [
      "/opt/conda/envs/llasa/lib/python3.11/site-packages/transformers/training_args.py:1539: FutureWarning: `evaluation_strategy` is deprecated and will be removed in version 4.46 of 🤗 Transformers. Use `eval_strategy` instead\n",
      "  warnings.warn(\n",
      "Detected kernel version 5.4.0, which is below the recommended minimum of 5.5.0; this can cause the process to hang. It is recommended to upgrade the kernel to the minimum version or higher.\n"
     ]
    },
    {
     "data": {
      "text/html": [
       "\n",
       "    <div>\n",
       "      \n",
       "      <progress value='527' max='70000' style='width:300px; height:20px; vertical-align: middle;'></progress>\n",
       "      [  527/70000 07:49 < 17:16:04, 1.12 it/s, Epoch 0.15/20]\n",
       "    </div>\n",
       "    <table border=\"1\" class=\"dataframe\">\n",
       "  <thead>\n",
       " <tr style=\"text-align: left;\">\n",
       "      <th>Epoch</th>\n",
       "      <th>Training Loss</th>\n",
       "      <th>Validation Loss</th>\n",
       "    </tr>\n",
       "  </thead>\n",
       "  <tbody>\n",
       "  </tbody>\n",
       "</table><p>"
      ],
      "text/plain": [
       "<IPython.core.display.HTML object>"
      ]
     },
     "metadata": {},
     "output_type": "display_data"
    }
   ],
   "source": [
    "from transformers import TrainingArguments, logging, Trainer\n",
    "from model.llasa_processor import LlasaDataCollatorWithPadding\n",
    "\n",
    "training_args = TrainingArguments(\n",
    "    learning_rate = 2e-5,\n",
    "    lr_scheduler_type = 'cosine',\n",
    "    warmup_ratio = 0.1,\n",
    "    per_device_train_batch_size=1,\n",
    "    per_device_eval_batch_size=1,\n",
    "    output_dir=\"tmp\",\n",
    "\n",
    "    logging_strategy='steps',\n",
    "    logging_steps=200,\n",
    "    logging_first_step=True,\n",
    "    \n",
    "    save_strategy='epoch',\n",
    "\n",
    "    disable_tqdm=False,\n",
    "    num_train_epochs=20,\n",
    "    log_level='error',\n",
    "    report_to='wandb',\n",
    "    fp16=True,\n",
    "\n",
    "    eval_steps=1,\n",
    "    evaluation_strategy='epoch'\n",
    "\n",
    ")\n",
    "\n",
    "logging.set_verbosity_error()\n",
    "\n",
    "trainer = Trainer(\n",
    "    model=model, \n",
    "    args=training_args, \n",
    "    \n",
    "    data_collator = LlasaDataCollatorWithPadding(processor=processor),\n",
    "    train_dataset=train_dataset,\n",
    "    eval_dataset = eval_dataset,\n",
    ")\n",
    "\n",
    "result = trainer.train()\n",
    "print_summary(result)"
   ]
  },
  {
   "cell_type": "code",
   "execution_count": 12,
   "metadata": {},
   "outputs": [],
   "source": [
    "data = train_dataset[1]\n",
    "#print(data)\n",
    "#del data['seg_tokens']"
   ]
  },
  {
   "cell_type": "code",
   "execution_count": 16,
   "metadata": {},
   "outputs": [
    {
     "name": "stderr",
     "output_type": "stream",
     "text": [
      "/opt/conda/envs/llasa/lib/python3.11/site-packages/transformers/generation/utils.py:1907: UserWarning: You are calling .generate() with the `input_ids` being on a device type different than your model's device. `input_ids` is on cpu, whereas the model is on cuda. You may experience unexpected behaviors or slower generation. Please make sure that you have put `input_ids` to the correct device by calling for example input_ids = input_ids.to('cuda') before running `.generate()`.\n",
      "  warnings.warn(\n"
     ]
    }
   ],
   "source": [
    "generate_kwargs = {\"max_new_tokens\": 100, \"do_sample\": True, \"top_p\": 0.9}\n",
    "\n",
    "output = model.generate(**data, **generate_kwargs)\n",
    "\n",
    "with torch.no_grad():\n",
    "    generated_text = processor.batch_decode(output, skip_special_tokens=False)"
   ]
  },
  {
   "cell_type": "code",
   "execution_count": 14,
   "metadata": {},
   "outputs": [
    {
     "name": "stdout",
     "output_type": "stream",
     "text": [
      "['<s> USER: <video>\\nDescribe the scene and the behavior of the actor within it. Use segmentation to emphasize the actor and provide details about their actions. <seg>\\nASSISTANT:ST booteton boot dom boot mentioness boot boot{ party blocks{ Boot h boot boot boot[ boot boot boot boot boot boot boot boot boot[ block boot block boot boot Boot boot boot boot boot boot boot boot boot{ boot boot, boot boot boot boot boot boot Boot bootBoot boot boot boot h boot boot boot Boot boot h boot boot h block[ boot boot boot boot bootess block boot block boot boot boot boot boot Boot boot boot Boot boot h h boot result boot boot boot boot boot']\n"
     ]
    }
   ],
   "source": [
    "print(generated_text)"
   ]
  },
  {
   "cell_type": "code",
   "execution_count": null,
   "metadata": {},
   "outputs": [],
   "source": []
  }
 ],
 "metadata": {
  "kernelspec": {
   "display_name": "llasa",
   "language": "python",
   "name": "python3"
  },
  "language_info": {
   "codemirror_mode": {
    "name": "ipython",
    "version": 3
   },
   "file_extension": ".py",
   "mimetype": "text/x-python",
   "name": "python",
   "nbconvert_exporter": "python",
   "pygments_lexer": "ipython3",
   "version": "3.11.0"
  }
 },
 "nbformat": 4,
 "nbformat_minor": 2
}
